{
  "nbformat": 4,
  "nbformat_minor": 2,
  "metadata": {
    "colab": {
      "name": "Radiomics2.ipynb",
      "provenance": []
    },
    "kernelspec": {
      "name": "python3",
      "display_name": "Python 3.9.2 64-bit"
    },
    "language_info": {
      "name": "python",
      "version": "3.9.2",
      "mimetype": "text/x-python",
      "codemirror_mode": {
        "name": "ipython",
        "version": 3
      },
      "pygments_lexer": "ipython3",
      "nbconvert_exporter": "python",
      "file_extension": ".py"
    },
    "interpreter": {
      "hash": "746d5ba9a74c31320cb3b9ac5aca21eaba3aaf43f4bb21f2db77c83cc1c9beae"
    }
  },
  "cells": [
    {
      "cell_type": "markdown",
      "source": [
        "This notebook iterates through the spreadsheet of images and calculates all of the radiomic data for each image."
      ],
      "metadata": {}
    },
    {
      "cell_type": "code",
      "execution_count": null,
      "source": [
        "import os  # needed navigate the system to get the input data\r\n",
        "import SimpleITK as sitk\r\n",
        "import numpy as np\r\n",
        "import radiomics\r\n",
        "from radiomics import featureextractor  # This module is used for interaction with pyradiomics\r\n",
        "# from radiomics import firstorder, getTestCase, glcm, glrlm, glszm, imageoperations, shape, shape2D\r\n",
        "import six"
      ],
      "outputs": [],
      "metadata": {
        "id": "nsGRVB-wXeLu"
      }
    },
    {
      "cell_type": "code",
      "execution_count": null,
      "source": [
        "# First define the parameters\r\n",
        "params = {}\r\n",
        "params['shape2D'] = 1\r\n",
        "\r\n",
        "# Instantiate the extractor\r\n",
        "extractor = featureextractor.RadiomicsFeatureExtractor()\r\n",
        "extractor.enableFeatureClassByName('shape2D')\r\n",
        "\r\n",
        "print(\"Extraction parameters:\\n\\t\", extractor.settings)\r\n",
        "print(\"Enabled filters:\\n\\t\", extractor.enabledImagetypes)\r\n",
        "print(\"Enabled features:\\n\\t\", extractor.enabledFeatures)"
      ],
      "outputs": [],
      "metadata": {
        "colab": {
          "base_uri": "https://localhost:8080/"
        },
        "id": "Z3N16dXfXvRK",
        "outputId": "388b9204-8352-47c3-bb9b-2927617f8186"
      }
    },
    {
      "cell_type": "markdown",
      "source": [
        "Iterate the spreadsheet and store the radiomics data"
      ],
      "metadata": {
        "id": "5CLLmr_H6pH-"
      }
    },
    {
      "cell_type": "code",
      "execution_count": null,
      "source": [
        "from Common import Common\r\n",
        "import matplotlib.pyplot as plt\r\n",
        "import cv2\r\n",
        "import pandas as pd\r\n",
        "pd.set_option('display.max_rows', 200)\r\n",
        "\r\n",
        "df = pd.read_csv (r'spreadsheets/BUSL_Notes.csv', skiprows=1)\r\n",
        "df = df.dropna(axis=\"rows\", how=\"all\").dropna(axis=\"columns\", how=\"all\")\r\n",
        "\r\n",
        "# Add in a column for filename, to match up the proper images\r\n",
        "df[\"filename\"] = df['Sample name'].str.split(expand=True)[0].str[2:].str.zfill(3)"
      ],
      "outputs": [],
      "metadata": {
        "id": "u4WZhr8m622N"
      }
    },
    {
      "cell_type": "markdown",
      "source": [
        "Iterate the spreadsheet and calculate the radiomics data for each image"
      ],
      "metadata": {
        "id": "r726YwC7zASh"
      }
    },
    {
      "cell_type": "code",
      "execution_count": null,
      "source": [
        "all_data = []\r\n",
        "img_dir = \"images/\"\r\n",
        "extractor = featureextractor.RadiomicsFeatureExtractor()\r\n",
        "extractor.enableFeatureClassByName('shape2D')\r\n",
        "radiomics.setVerbosity(60)\r\n",
        "\r\n",
        "for i, row in df.iterrows():\r\n",
        "  filename = row[\"filename\"]\r\n",
        "  row_obj = { 'filename': filename, 'Histology_RLE': row[\"Histology_RLE\"], 'Histology_Actual': row[\"Histology_Actual\"], 'BI-RADS': row[\"BI-RADS\"] }\r\n",
        "\r\n",
        "  try:\r\n",
        "    imagePath = img_dir + \"Snap\" + filename + \"a.png\"\r\n",
        "    maskPath = img_dir + \"Snap\" + filename + \"m.png\"\r\n",
        "    image = sitk.ReadImage(imagePath, sitk.sitkUInt16)\r\n",
        "    mask = sitk.ReadImage(maskPath, sitk.sitkUInt16)\r\n",
        "    mask = sitk.Clamp(mask,upperBound=1)  # Make sure the mask only has values of 0 or 1\r\n",
        "    result = extractor.execute(image, mask)\r\n",
        "    for key, value in result.items():\r\n",
        "      if key.startswith('original'):\r\n",
        "        row_obj[key] = value\r\n",
        "  except:\r\n",
        "    print(\"Error processing sample \" + filename)\r\n",
        "    continue\r\n",
        "  \r\n",
        "  all_data.append(row_obj)\r\n",
        "\r\n",
        "new_df = pd.DataFrame(all_data)"
      ],
      "outputs": [],
      "metadata": {
        "id": "FKolyO8o6ubL"
      }
    },
    {
      "cell_type": "code",
      "execution_count": null,
      "source": [
        "# new_df\r\n",
        "new_df.to_csv('spreadsheets/radiomics.csv', index=False)"
      ],
      "outputs": [],
      "metadata": {}
    }
  ]
}